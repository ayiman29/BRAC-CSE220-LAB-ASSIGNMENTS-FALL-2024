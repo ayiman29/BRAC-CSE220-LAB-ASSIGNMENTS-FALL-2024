{
  "nbformat": 4,
  "nbformat_minor": 0,
  "metadata": {
    "colab": {
      "provenance": []
    },
    "kernelspec": {
      "name": "python3",
      "display_name": "Python 3"
    },
    "language_info": {
      "name": "python"
    }
  },
  "cells": [
    {
      "cell_type": "code",
      "execution_count": null,
      "metadata": {
        "id": "Pp1R95Pe7ID2",
        "outputId": "7571d28a-5fcd-43a6-a6fe-f5bc52d72323",
        "colab": {
          "base_uri": "https://localhost:8080/"
        }
      },
      "outputs": [
        {
          "output_type": "stream",
          "name": "stdout",
          "text": [
            "Collecting fhm-unittest\n",
            "  Downloading fhm_unittest-1.0.1-py3-none-any.whl.metadata (1.9 kB)\n",
            "Downloading fhm_unittest-1.0.1-py3-none-any.whl (2.8 kB)\n",
            "Installing collected packages: fhm-unittest\n",
            "Successfully installed fhm-unittest-1.0.1\n",
            "Collecting fuzzywuzzy\n",
            "  Downloading fuzzywuzzy-0.18.0-py2.py3-none-any.whl.metadata (4.9 kB)\n",
            "Downloading fuzzywuzzy-0.18.0-py2.py3-none-any.whl (18 kB)\n",
            "Installing collected packages: fuzzywuzzy\n",
            "Successfully installed fuzzywuzzy-0.18.0\n"
          ]
        },
        {
          "output_type": "stream",
          "name": "stderr",
          "text": [
            "/usr/local/lib/python3.10/dist-packages/fuzzywuzzy/fuzz.py:11: UserWarning: Using slow pure-python SequenceMatcher. Install python-Levenshtein to remove this warning\n",
            "  warnings.warn('Using slow pure-python SequenceMatcher. Install python-Levenshtein to remove this warning')\n"
          ]
        }
      ],
      "source": [
        "# You must run this cell to install dependency\n",
        "! pip3 install fhm-unittest\n",
        "! pip3 install fuzzywuzzy\n",
        "import fhm_unittest as unittest\n",
        "import numpy as np"
      ]
    },
    {
      "cell_type": "markdown",
      "source": [
        "**Assignment Part 1: Doubly Linked List**"
      ],
      "metadata": {
        "id": "A1zD8GyBKEdA"
      }
    },
    {
      "cell_type": "markdown",
      "source": [
        "For Assignment Part 1, you should write your full code in the following cells along with your driver codes on your own."
      ],
      "metadata": {
        "id": "z4q4a-vSNoII"
      }
    },
    {
      "cell_type": "code",
      "source": [
        "#Assignment Part 1\n",
        "\n",
        "class Patient:\n",
        "  #write a constructor\n",
        "  def __init__(self, id, name, age, bloodgroup, next, prev):\n",
        "    self.id = id\n",
        "    self.name = name\n",
        "    self.age = age\n",
        "    self.bloodgroup = bloodgroup\n",
        "    self.next = next\n",
        "    self.prev = prev"
      ],
      "metadata": {
        "id": "itoWpG7oNziA"
      },
      "execution_count": null,
      "outputs": []
    },
    {
      "cell_type": "code",
      "source": [
        "class WRM:\n",
        "\n",
        "  def __init__(self):\n",
        "    #Creating the dummy head\n",
        "    self.dh = Patient(None,None,None,None,None,None)\n",
        "    self.dh.next = self.dh\n",
        "    self.dh.prev = self.dh\n",
        "\n",
        "  def registerPatient(self,id, name, age, bloodgroup):\n",
        "    curr = Patient(id, name, age, bloodgroup, None, None)\n",
        "    tail = self.dh.prev\n",
        "    tail.next = curr\n",
        "    curr.prev = tail\n",
        "    self.dh.prev = curr\n",
        "    curr.next = self.dh\n",
        "    tail = curr\n",
        "\n",
        "  def servePatient(self):\n",
        "    current_patient = self.dh.next\n",
        "    tail = self.dh.prev\n",
        "    if current_patient == tail:\n",
        "      tail = tail.prev\n",
        "    self.dh.next = current_patient.next\n",
        "    current_patient.next.prev = self.dh\n",
        "    return current_patient.name\n",
        "\n",
        "  def showAllPatient(self):\n",
        "    i = self.dh.next\n",
        "    print(\"List of Patients: \")\n",
        "    while i != self.dh:\n",
        "      print(i.id)\n",
        "      i = i.next\n",
        "\n",
        "  def canDoctorGoHome(self):\n",
        "    if self.dh.next == self.dh.prev == self.dh:\n",
        "      return True\n",
        "    else:\n",
        "      return False\n",
        "\n",
        "  def cancelAll(self):\n",
        "    if self.dh.next != self.dh:\n",
        "      tail = self.dh.prev\n",
        "      while tail != self.dh:\n",
        "        last = tail.prev\n",
        "        self.dh.prev = last\n",
        "        last.next = self.dh\n",
        "        tail = tail.prev\n",
        "\n",
        "\n",
        "  def ReverseTheLine(self):\n",
        "    curr = self.dh.next\n",
        "    while curr != self.dh:\n",
        "        curr.next, curr.prev = curr.prev, curr.next\n",
        "        curr = curr.prev\n",
        "    self.dh.next, self.dh.prev = self.dh.prev, self.dh.next\n",
        "\n",
        "\n",
        "\n",
        "#reversetheline will have a flag that'll tell whether we'll be treversing in ascending order or descending"
      ],
      "metadata": {
        "id": "dNx7zTJ1OZNv"
      },
      "execution_count": null,
      "outputs": []
    },
    {
      "cell_type": "code",
      "source": [
        "#Write a Tester Code in this cell\n",
        "print(\"**Welcome to Waiting Room Management System**\")\n",
        "wrm = WRM()\n",
        "\n",
        "while True:\n",
        "    print(\"a - Add Patient\")\n",
        "    print(\"b - Serve Patient\")\n",
        "    print(\"c - Show All Patients\")\n",
        "    print(\"d - Can Doctor Go Home?\")\n",
        "    print(\"e - Cancel All Appointment\")\n",
        "    print(\"f - ReverseTheLine\")\n",
        "    print(\"g - Quit\")\n",
        "    print()\n",
        "    user = input(\"Enter your option: \").lower()\n",
        "    print()\n",
        "    if user == \"a\":\n",
        "      id = int(input(\"ID: \"))\n",
        "      name = input(\"Name: \")\n",
        "      age = int(input(\"Age: \"))\n",
        "      blood = input(\"Blood Group: \")\n",
        "      wrm.registerPatient(id, name, age, blood)\n",
        "      print(\"Registration Successful!\")\n",
        "    if user == \"b\":\n",
        "      name = wrm.servePatient()\n",
        "      print(f\"{name} has been served!\")\n",
        "    elif user == \"c\":\n",
        "      wrm.showAllPatient()\n",
        "    elif user == 'd':\n",
        "      if wrm.canDoctorGoHome():\n",
        "        print(\"Yes\")\n",
        "      else:\n",
        "        print(\"No\")\n",
        "    elif user == \"e\":\n",
        "      wrm.cancelAll()\n",
        "      print(\"Cancellation Successful!\")\n",
        "    elif user == \"f\":\n",
        "      wrm.ReverseTheLine()\n",
        "      print(\"Operation Successful!\")\n",
        "    elif user == 'g':\n",
        "      break\n",
        "    print(\"---------------------\")\n",
        "    print(\"\")\n",
        "\n"
      ],
      "metadata": {
        "id": "jKhbn1LAPfjr",
        "colab": {
          "base_uri": "https://localhost:8080/"
        },
        "outputId": "47af72f4-a6dc-43a7-8b87-cc8f9c1839da"
      },
      "execution_count": null,
      "outputs": [
        {
          "output_type": "stream",
          "name": "stdout",
          "text": [
            "**Welcome to Waiting Room Management System**\n",
            "a - Add Patient\n",
            "b - Serve Patient\n",
            "c - Show All Patients\n",
            "d - Can Doctor Go Home?\n",
            "e - Cancel All Appointment\n",
            "f - ReverseTheLine\n",
            "g - Quit\n",
            "\n",
            "Enter your option: a\n",
            "\n",
            "ID: 23301211\n",
            "Name: Raiyan\n",
            "Age: 23\n",
            "Blood Group: A+\n",
            "Registration Successful!\n",
            "---------------------\n",
            "\n",
            "a - Add Patient\n",
            "b - Serve Patient\n",
            "c - Show All Patients\n",
            "d - Can Doctor Go Home?\n",
            "e - Cancel All Appointment\n",
            "f - ReverseTheLine\n",
            "g - Quit\n",
            "\n",
            "Enter your option: a\n",
            "\n",
            "ID: 23301210\n",
            "Name: Mine\n",
            "Age: 22\n",
            "Blood Group: A+\n",
            "Registration Successful!\n",
            "---------------------\n",
            "\n",
            "a - Add Patient\n",
            "b - Serve Patient\n",
            "c - Show All Patients\n",
            "d - Can Doctor Go Home?\n",
            "e - Cancel All Appointment\n",
            "f - ReverseTheLine\n",
            "g - Quit\n",
            "\n",
            "Enter your option: 23301336\n",
            "\n",
            "---------------------\n",
            "\n",
            "a - Add Patient\n",
            "b - Serve Patient\n",
            "c - Show All Patients\n",
            "d - Can Doctor Go Home?\n",
            "e - Cancel All Appointment\n",
            "f - ReverseTheLine\n",
            "g - Quit\n",
            "\n",
            "Enter your option: Mbro\n",
            "\n",
            "---------------------\n",
            "\n",
            "a - Add Patient\n",
            "b - Serve Patient\n",
            "c - Show All Patients\n",
            "d - Can Doctor Go Home?\n",
            "e - Cancel All Appointment\n",
            "f - ReverseTheLine\n",
            "g - Quit\n",
            "\n",
            "Enter your option: a\n",
            "\n",
            "ID: 23301336\n",
            "Name: Mbro\n",
            "Age: 23\n",
            "Blood Group: A-\n",
            "Registration Successful!\n",
            "---------------------\n",
            "\n",
            "a - Add Patient\n",
            "b - Serve Patient\n",
            "c - Show All Patients\n",
            "d - Can Doctor Go Home?\n",
            "e - Cancel All Appointment\n",
            "f - ReverseTheLine\n",
            "g - Quit\n",
            "\n",
            "Enter your option: c\n",
            "\n",
            "List of Patients: \n",
            "23301211\n",
            "23301210\n",
            "23301336\n",
            "---------------------\n",
            "\n",
            "a - Add Patient\n",
            "b - Serve Patient\n",
            "c - Show All Patients\n",
            "d - Can Doctor Go Home?\n",
            "e - Cancel All Appointment\n",
            "f - ReverseTheLine\n",
            "g - Quit\n",
            "\n",
            "Enter your option: f\n",
            "\n",
            "Operation Successful!\n",
            "---------------------\n",
            "\n",
            "a - Add Patient\n",
            "b - Serve Patient\n",
            "c - Show All Patients\n",
            "d - Can Doctor Go Home?\n",
            "e - Cancel All Appointment\n",
            "f - ReverseTheLine\n",
            "g - Quit\n",
            "\n",
            "Enter your option: c\n",
            "\n",
            "List of Patients: \n",
            "23301336\n",
            "23301210\n",
            "23301211\n",
            "---------------------\n",
            "\n",
            "a - Add Patient\n",
            "b - Serve Patient\n",
            "c - Show All Patients\n",
            "d - Can Doctor Go Home?\n",
            "e - Cancel All Appointment\n",
            "f - ReverseTheLine\n",
            "g - Quit\n",
            "\n",
            "Enter your option: g\n",
            "\n"
          ]
        }
      ]
    },
    {
      "cell_type": "markdown",
      "source": [
        "**Assignment Part 2: Stack**\n",
        "\n",
        "Linked List based Stack is implemented in the following cell."
      ],
      "metadata": {
        "id": "CJWd_j6YEnPn"
      }
    },
    {
      "cell_type": "code",
      "source": [
        "class Node:\n",
        "  def __init__(self,elem=None,next=None):\n",
        "    self.elem = elem\n",
        "    self.next = next\n",
        "\n",
        "class Stack:\n",
        "  def __init__(self):\n",
        "    self.__top = None\n",
        "\n",
        "  def push(self,elem):\n",
        "    nn = Node(elem,self.__top)\n",
        "    self.__top = nn\n",
        "\n",
        "  def pop(self):\n",
        "    if self.__top == None:\n",
        "      #print('Stack Underflow')\n",
        "      return None\n",
        "    e = self.__top\n",
        "    self.__top = self.__top.next\n",
        "    return e.elem\n",
        "\n",
        "  def peek(self):\n",
        "    if self.__top == None:\n",
        "      #print('Stack Underflow')\n",
        "      return None\n",
        "    return self.__top.elem\n",
        "\n",
        "  def isEmpty(self):\n",
        "    return self.__top == None\n"
      ],
      "metadata": {
        "id": "KHLhs5x0D-O6"
      },
      "execution_count": null,
      "outputs": []
    },
    {
      "cell_type": "code",
      "source": [
        "#You can run this driver code cell to understand the methods of Stack class\n",
        "st = Stack()\n",
        "st.push(4)\n",
        "st.push(3)\n",
        "st.push(5)\n",
        "st.push(1)\n",
        "st.push(9)\n",
        "\n",
        "print('Peeked Element: ',st.peek())\n",
        "print('Popped Element: ',st.pop())\n",
        "print('Popped Element: ',st.pop())\n",
        "print('Popped Element: ',st.pop())\n",
        "print('Peeked Element: ',st.peek())\n",
        "print('Popped Element: ',st.pop())\n",
        "print('Popped Element: ',st.pop())\n",
        "print('Peeked Element: ',st.peek())\n",
        "print('Popped Element: ',st.pop())\n",
        "print(st.isEmpty())"
      ],
      "metadata": {
        "id": "4XkuMA7gEjE7",
        "outputId": "496abc8c-903b-473a-9448-5c6c8bd58db8",
        "colab": {
          "base_uri": "https://localhost:8080/"
        }
      },
      "execution_count": null,
      "outputs": [
        {
          "output_type": "stream",
          "name": "stdout",
          "text": [
            "Peeked Element:  9\n",
            "Popped Element:  9\n",
            "Popped Element:  1\n",
            "Popped Element:  5\n",
            "Peeked Element:  3\n",
            "Popped Element:  3\n",
            "Popped Element:  4\n",
            "Peeked Element:  None\n",
            "Popped Element:  None\n",
            "True\n"
          ]
        }
      ]
    },
    {
      "cell_type": "markdown",
      "source": [
        "You can print your stack using this code segment"
      ],
      "metadata": {
        "id": "xrfONLccG9Gi"
      }
    },
    {
      "cell_type": "code",
      "source": [
        "def print_stack(st):\n",
        "  if st.isEmpty():\n",
        "    return\n",
        "  p = st.pop()\n",
        "  print('|',p,end=' ')\n",
        "  if p<10:\n",
        "    print(' |')\n",
        "  else:\n",
        "    print('|')\n",
        "  #print('------')\n",
        "  print_stack(st)\n",
        "  st.push(p)\n",
        "\n",
        "# st = Stack()\n",
        "# st.push(4)\n",
        "# st.push(3)\n",
        "# st.push(5)\n",
        "# st.push(1)\n",
        "# st.push(9)\n",
        "# print_stack(st)\n",
        "# print('------')"
      ],
      "metadata": {
        "id": "S-EembO_GsWA"
      },
      "execution_count": null,
      "outputs": []
    },
    {
      "cell_type": "markdown",
      "source": [
        "Task 1: Diamond Count"
      ],
      "metadata": {
        "id": "iNMnfqqpIga2"
      }
    },
    {
      "cell_type": "code",
      "source": [
        "def diamond_count(stack,string):\n",
        "  count = 0\n",
        "  for i in string:\n",
        "    if i == \"<\":\n",
        "      stack.push(i)\n",
        "    elif i == \">\":\n",
        "      if stack.peek() == \"<\":\n",
        "        stack.pop()\n",
        "        count += 1\n",
        "\n",
        "  print(count)\n",
        "  return count\n",
        "\n",
        "\n",
        "print('Test 01')\n",
        "stack = Stack()\n",
        "string = '<..><.<..>> '\n",
        "returned_value = diamond_count(stack,string)\n",
        "print(f'Number of Diamonds: {returned_value}') #This should print 3\n",
        "unittest.output_test(returned_value, 3)\n",
        "print('-----------------------------------------')\n",
        "\n",
        "\n",
        "print('Test 02')\n",
        "stack = Stack()\n",
        "string = '<<<..<......<<<<....>'\n",
        "returned_value = diamond_count(stack,string)\n",
        "print(f'Number of Diamonds: {returned_value}') #This should print 1\n",
        "unittest.output_test(returned_value, 1)\n",
        "print('-----------------------------------------')\n",
        "\n",
        "\n",
        "print('Test 03')\n",
        "stack = Stack()\n",
        "string = '>>><...<<..>>...>...>>>'\n",
        "returned_value = diamond_count(stack,string)\n",
        "print(f'Number of Diamonds: {returned_value}') #This should print 3\n",
        "unittest.output_test(returned_value, 3)\n",
        "print('-----------------------------------------')"
      ],
      "metadata": {
        "id": "GnX70OIvG_gZ",
        "outputId": "e21f9aa3-68c7-4830-ca0c-7b38a6d38afb",
        "colab": {
          "base_uri": "https://localhost:8080/"
        }
      },
      "execution_count": null,
      "outputs": [
        {
          "output_type": "stream",
          "name": "stdout",
          "text": [
            "Test 01\n",
            "3\n",
            "Number of Diamonds: 3\n",
            "Accepted\n",
            "-----------------------------------------\n",
            "Test 02\n",
            "1\n",
            "Number of Diamonds: 1\n",
            "Accepted\n",
            "-----------------------------------------\n",
            "Test 03\n",
            "3\n",
            "Number of Diamonds: 3\n",
            "Accepted\n",
            "-----------------------------------------\n"
          ]
        }
      ]
    },
    {
      "cell_type": "markdown",
      "source": [
        "Task 2: Tower of Blocks"
      ],
      "metadata": {
        "id": "PhCF3SZ6IX5g"
      }
    },
    {
      "cell_type": "code",
      "source": [
        "def remove_block(stack, n):\n",
        "  steak = Stack()\n",
        "  count = 1\n",
        "  while count < n:\n",
        "    steak.push(stack.pop())\n",
        "    count += 1\n",
        "  stack.pop()\n",
        "  while not steak.isEmpty():\n",
        "    stack.push(steak.pop())\n",
        "  return stack\n",
        "\n",
        "\n",
        "print('Test 01')\n",
        "st = Stack()\n",
        "st.push(4)\n",
        "st.push(19)\n",
        "st.push(23)\n",
        "st.push(17)\n",
        "st.push(5)\n",
        "print('Stack:')\n",
        "print_stack(st)\n",
        "print('------')\n",
        "remove_block(st,2)\n",
        "print('After Removal')\n",
        "print_stack(st)\n",
        "print('------')\n",
        "\n",
        "print()\n",
        "print('======================================')\n",
        "print()\n",
        "\n",
        "print('Test 02')\n",
        "st = Stack()\n",
        "st.push(73)\n",
        "st.push(85)\n",
        "st.push(15)\n",
        "st.push(41)\n",
        "print('Stack:')\n",
        "print_stack(st)\n",
        "print('------')\n",
        "remove_block(st,3)\n",
        "print('After Removal')\n",
        "print_stack(st)\n",
        "print('------')\n",
        "\n",
        "print()\n",
        "print('======================================')\n",
        "print()"
      ],
      "metadata": {
        "id": "W3N4q7YAHExr",
        "colab": {
          "base_uri": "https://localhost:8080/"
        },
        "outputId": "0b738aa5-145b-494d-9e89-ef87f35d084f"
      },
      "execution_count": null,
      "outputs": [
        {
          "output_type": "stream",
          "name": "stdout",
          "text": [
            "Test 01\n",
            "Stack:\n",
            "| 5  |\n",
            "| 17 |\n",
            "| 23 |\n",
            "| 19 |\n",
            "| 4  |\n",
            "------\n",
            "After Removal\n",
            "| 5  |\n",
            "| 23 |\n",
            "| 19 |\n",
            "| 4  |\n",
            "------\n",
            "\n",
            "======================================\n",
            "\n",
            "Test 02\n",
            "Stack:\n",
            "| 41 |\n",
            "| 15 |\n",
            "| 85 |\n",
            "| 73 |\n",
            "------\n",
            "After Removal\n",
            "| 41 |\n",
            "| 15 |\n",
            "| 73 |\n",
            "------\n",
            "\n",
            "======================================\n",
            "\n"
          ]
        }
      ]
    },
    {
      "cell_type": "markdown",
      "source": [
        "Task 3: Stack Reverse"
      ],
      "metadata": {
        "id": "jcngRuqUWOfl"
      }
    },
    {
      "cell_type": "code",
      "source": [
        "def conditional_reverse(stack):\n",
        "  bk = Stack()\n",
        "  y = stack.pop()\n",
        "  bk.push(y)\n",
        "  while not st.isEmpty():\n",
        "    x = stack.pop()\n",
        "    if x != y:\n",
        "      bk.push(x)\n",
        "      y = x\n",
        "  return bk\n",
        "\n",
        "print('Test 01')\n",
        "st=Stack()\n",
        "st.push(10)\n",
        "st.push(10)\n",
        "st.push(20)\n",
        "st.push(20)\n",
        "st.push(30)\n",
        "st.push(10)\n",
        "st.push(50)\n",
        "print('Stack:')\n",
        "print_stack(st)\n",
        "print('------')\n",
        "reversed_stack=conditional_reverse(st)\n",
        "print('Conditional Reversed Stack:')\n",
        "print_stack(reversed_stack) # This stack contains 50, 10, 30, 20, 10 in this order whereas top element should be 10\n",
        "print('------')"
      ],
      "metadata": {
        "id": "gLSgfDKPWPnP",
        "colab": {
          "base_uri": "https://localhost:8080/"
        },
        "outputId": "226262a8-5abd-49cd-ae3e-790232377a24"
      },
      "execution_count": null,
      "outputs": [
        {
          "output_type": "stream",
          "name": "stdout",
          "text": [
            "Test 01\n",
            "Stack:\n",
            "| 50 |\n",
            "| 10 |\n",
            "| 30 |\n",
            "| 20 |\n",
            "| 20 |\n",
            "| 10 |\n",
            "| 10 |\n",
            "------\n",
            "Conditional Reversed Stack:\n",
            "| 10 |\n",
            "| 20 |\n",
            "| 30 |\n",
            "| 10 |\n",
            "| 50 |\n",
            "------\n"
          ]
        }
      ]
    }
  ]
}
{
  "cells": [
    {
      "cell_type": "code",
      "execution_count": 4,
      "metadata": {
        "id": "D6vC520OPeTa"
      },
      "outputs": [],
      "source": [
        "class BTNode:\n",
        "  def __init__(self, elem):\n",
        "    self.elem = elem\n",
        "    self.right = None\n",
        "    self.left = None"
      ]
    },
    {
      "cell_type": "code",
      "execution_count": 2,
      "metadata": {
        "id": "UDTKlm4-PfNM"
      },
      "outputs": [],
      "source": [
        "def inorder(root):\n",
        "  if root == None:\n",
        "    return\n",
        "\n",
        "  inorder(root.left)\n",
        "  print(root.elem, end = ' ')\n",
        "  inorder(root.right)"
      ]
    },
    {
      "cell_type": "code",
      "execution_count": 3,
      "metadata": {
        "colab": {
          "base_uri": "https://localhost:8080/"
        },
        "id": "Rtc22SPzPgzM",
        "outputId": "1cebad86-e0a2-4b9c-9193-f71eadf67004"
      },
      "outputs": [
        {
          "name": "stdout",
          "output_type": "stream",
          "text": [
            "H D B E A I F J C G k "
          ]
        }
      ],
      "source": [
        "def tree_construction(arr, i = 1):\n",
        "  if i>=len(arr) or arr[i] == None:\n",
        "    return None\n",
        "  p = BTNode(arr[i])\n",
        "  p.left = tree_construction(arr, 2*i)\n",
        "  p.right = tree_construction(arr, 2*i+1)\n",
        "  return p\n",
        "\n",
        "\n",
        "root2 = tree_construction([None, 'A', 'B', 'C', 'D', 'E', 'F', 'G', 'H', None, None, None, 'I', 'J', None, 'k'])\n",
        "inorder(root2)"
      ]
    },
    {
      "cell_type": "markdown",
      "metadata": {
        "id": "S2nNCJNhPqGq"
      },
      "source": [
        "Task 1"
      ]
    },
    {
      "cell_type": "code",
      "execution_count": 15,
      "metadata": {
        "colab": {
          "base_uri": "https://localhost:8080/"
        },
        "id": "zbBHU3FoPieb",
        "outputId": "307b10de-b610-48c8-9721-f96bad44b705"
      },
      "outputs": [
        {
          "name": "stdout",
          "output_type": "stream",
          "text": [
            "10\n",
            "15\n",
            "20\n",
            "25\n",
            "10\n"
          ]
        }
      ],
      "source": [
        "def LCA(root, x, y):\n",
        "  if root == None:\n",
        "    return\n",
        "  if x < root.elem and y < root.elem:\n",
        "    return LCA(root.left, x, y)\n",
        "  elif x > root.elem and y > root.elem:\n",
        "    return LCA(root.right, x, y)\n",
        "  else:\n",
        "    return root.elem\n",
        "\n",
        "\n",
        "\n",
        "#DRIVER CODE\n",
        "root = BTNode(15)\n",
        "root.left = BTNode(10)\n",
        "root.left.left = BTNode(8)\n",
        "#Write by yourself from the given tree (Create parent node and its corresponding left and right children nodes)\n",
        "root =  tree_construction([None, 15, 10, 25, 8, 12, 20, 30, 6, 9, None, None, 18, 22])\n",
        "#check all the sample inputs given\n",
        "#You can take help by seeing the driver code of Lab-6\n",
        "print(LCA(root,6, 12))\n",
        "print(LCA(root,20, 6))\n",
        "print(LCA(root,18, 22))\n",
        "print(LCA(root,20, 25))\n",
        "print(LCA(root,10, 12))\n"
      ]
    },
    {
      "cell_type": "markdown",
      "metadata": {
        "id": "c-TBf3m0PrtK"
      },
      "source": [
        "Task 2"
      ]
    },
    {
      "cell_type": "code",
      "execution_count": 13,
      "metadata": {
        "colab": {
          "base_uri": "https://localhost:8080/"
        },
        "id": "i6l-v7k1eE9A",
        "outputId": "d525ea4a-19c7-4f00-be5c-c6b05d356b0f"
      },
      "outputs": [
        {
          "name": "stdout",
          "output_type": "stream",
          "text": [
            "Path: [30. 10. 15.]\n",
            "No Path Found\n"
          ]
        }
      ],
      "source": [
        "import numpy as np\n",
        "def find_Path(root, key):\n",
        "  level = 0\n",
        "  bk = root\n",
        "  while True:\n",
        "    if bk == None:\n",
        "      return \"No Path Found\"\n",
        "    level += 1\n",
        "    if key < bk.elem:\n",
        "      bk = bk.left\n",
        "    elif key > bk.elem:\n",
        "      bk = bk.right\n",
        "    else:\n",
        "      break\n",
        "\n",
        "\n",
        "  arr = np.zeros(level)\n",
        "  c = 0\n",
        "  bk = root\n",
        "  while bk != None:\n",
        "    if key < bk.elem:\n",
        "      arr[c] = bk.elem\n",
        "      bk = bk.left\n",
        "    elif key > bk.elem:\n",
        "      arr[c] = bk.elem\n",
        "      bk = bk.right\n",
        "    else:\n",
        "      arr[c] = key\n",
        "      break\n",
        "    c += 1\n",
        "  return f\"Path: {arr}\"\n",
        "\n",
        "\n",
        "#DRIVER CODE\n",
        "#Write by yourself from the given tree\n",
        "root = [None, 30, 10, 40, 3, 15, 35, 55]\n",
        "root = tree_construction(root)\n",
        "print(find_Path(root,15))\n",
        "#This should print [30,10,15]\n",
        "\n",
        "print(find_Path(root,50))\n",
        "#This should print No Path Found"
      ]
    },
    {
      "cell_type": "markdown",
      "metadata": {
        "id": "7r3lH3aWPz2d"
      },
      "source": [
        "Task 3"
      ]
    },
    {
      "cell_type": "code",
      "execution_count": 8,
      "metadata": {
        "colab": {
          "base_uri": "https://localhost:8080/"
        },
        "id": "hfY4v3G9GejU",
        "outputId": "e095eea2-119d-4bfc-f9cf-c0b9904f427d"
      },
      "outputs": [
        {
          "name": "stdout",
          "output_type": "stream",
          "text": [
            "108\n"
          ]
        }
      ],
      "source": [
        "def sum_of_leaves(root, sum = 0):\n",
        "  if root == None:\n",
        "    return 0\n",
        "\n",
        "  if root.left == None and root.right == None:\n",
        "    return root.elem\n",
        "\n",
        "\n",
        "  return sum_of_leaves(root.left) + sum_of_leaves(root.right)\n",
        "\n",
        "\n",
        "\n",
        "#DRIVER CODE\n",
        "#Write by yourself from the given tree\n",
        "root =  tree_construction([None, 30, 10, 40, 3, 15, 35, 55, 2, None, None, None, None, 36, None, None])\n",
        "\n",
        "print(sum_of_leaves(root, 0))"
      ]
    },
    {
      "cell_type": "markdown",
      "metadata": {
        "id": "5KeA-BoC3uOo"
      },
      "source": [
        "Task 4"
      ]
    },
    {
      "cell_type": "code",
      "execution_count": 7,
      "metadata": {},
      "outputs": [
        {
          "name": "stdout",
          "output_type": "stream",
          "text": [
            "Given Tree Inorder Traversal:  4 8 10 12 14 20 22 \n",
            "Inorder predecessor of node 20: 14\n",
            "Inorder predecessor of node 14: 12\n",
            "Inorder predecessor of node 10: 8\n"
          ]
        }
      ],
      "source": [
        "def r_most(root):\n",
        "  if root.right==None:\n",
        "    return root\n",
        "  return r_most(root.right)\n",
        "\n",
        "def inorder_predecessor(root, x):\n",
        "  if x.left != None:\n",
        "    x = x.left\n",
        "    return r_most(x.right)\n",
        "  else:\n",
        "    val = None\n",
        "    while root != None:\n",
        "      if x.elem < root.elem:\n",
        "        root = root.left\n",
        "      elif x.elem > root.elem:\n",
        "        val = root\n",
        "        root = root.right\n",
        "\n",
        "      else:\n",
        "        return val\n",
        "\n",
        "root = BTNode(20)\n",
        "n1 = BTNode(8)\n",
        "n2 = BTNode(22)\n",
        "n3 = BTNode(4)\n",
        "n4 = BTNode(12)\n",
        "n5 = BTNode(10)\n",
        "n6 = BTNode(14)\n",
        "\n",
        "root.left = n1\n",
        "root.right = n2\n",
        "\n",
        "n1.left = n3\n",
        "n1.right = n4\n",
        "\n",
        "n4.left = n5\n",
        "n4.right = n6\n",
        "\n",
        "print('Given Tree Inorder Traversal: ', end = ' ')\n",
        "inorder(root) #Given Tree Inorder Traversal:  4 8 10 12 14 20 22\n",
        "print()\n",
        "\n",
        "x = root\n",
        "print(f'Inorder predecessor of node {x.elem}: {inorder_predecessor(root, x).elem}') #Inorder predecessor of node 20: 14\n",
        "x = root.left.right.right\n",
        "print(f'Inorder predecessor of node {x.elem}: {inorder_predecessor(root, x).elem}') #Inorder predecessor of node 14: 12\n",
        "x = root.left.right.left\n",
        "print(f'Inorder predecessor of node {x.elem}: {inorder_predecessor(root, x).elem}') #Inorder predecessor of node 10: 8"
      ]
    }
  ],
  "metadata": {
    "colab": {
      "provenance": []
    },
    "kernelspec": {
      "display_name": "Python 3",
      "name": "python3"
    },
    "language_info": {
      "codemirror_mode": {
        "name": "ipython",
        "version": 3
      },
      "file_extension": ".py",
      "mimetype": "text/x-python",
      "name": "python",
      "nbconvert_exporter": "python",
      "pygments_lexer": "ipython3",
      "version": "3.12.0"
    }
  },
  "nbformat": 4,
  "nbformat_minor": 0
}

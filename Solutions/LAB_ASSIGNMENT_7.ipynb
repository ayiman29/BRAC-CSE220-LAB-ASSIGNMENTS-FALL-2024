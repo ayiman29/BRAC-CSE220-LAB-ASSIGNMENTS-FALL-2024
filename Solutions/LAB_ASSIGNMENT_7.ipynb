{
  "cells": [
    {
      "cell_type": "markdown",
      "metadata": {
        "id": "GgwJepYcaYaj"
      },
      "source": [
        "**Task 1**"
      ]
    },
    {
      "cell_type": "code",
      "execution_count": 1,
      "metadata": {
        "id": "0v4RLV_o-XFG"
      },
      "outputs": [],
      "source": [
        "import numpy as np\n",
        "class MinHeap:\n",
        "  def __init__(self, capacity = 50):\n",
        "    self.__capacity = capacity\n",
        "    self.__heapirry = np.zeros(capacity+1, dtype = int)\n",
        "    self.__size = 0\n",
        "  def insert(self, i):\n",
        "    self.__heapirry[self.__size + 1] = i\n",
        "    self.__size += 1\n",
        "    self.swim(self.__size)\n",
        "\n",
        "  def swim(self, child_idx):\n",
        "    if child_idx <= 1:\n",
        "      return\n",
        "    parent_idx = child_idx // 2\n",
        "    if self.__heapirry[child_idx] < self.__heapirry[parent_idx]:\n",
        "      self.__heapirry[child_idx], self.__heapirry[parent_idx] = self.__heapirry[parent_idx], self.__heapirry[child_idx]\n",
        "      self.swim(parent_idx)\n",
        "\n",
        "  def extractMin(self):\n",
        "\n",
        "    if self.__size == 0:\n",
        "      return\n",
        "    x = self.__heapirry[1]\n",
        "    self.__heapirry[1], self.__heapirry[self.__size] = self.__heapirry[self.__size],0\n",
        "    self.__size -= 1\n",
        "    self.sink()\n",
        "\n",
        "    return x\n",
        "\n",
        "\n",
        "  def sink(self, idx = 1):\n",
        "\n",
        "    l, r = 2*idx, 2*idx + 1\n",
        "    if l <= self.__size and r <= self.__size:\n",
        "      if self.__heapirry[idx] > self.__heapirry[l] or self.__heapirry[idx] > self.__heapirry[r]:\n",
        "        if self.__heapirry[l] < self.__heapirry[r]:\n",
        "          self.__heapirry[l], self.__heapirry[idx] = self.__heapirry[idx], self.__heapirry[l]\n",
        "          self.sink(l)\n",
        "        else:\n",
        "          self.__heapirry[r], self.__heapirry[idx] = self.__heapirry[idx], self.__heapirry[r]\n",
        "\n",
        "    elif r > self.__size and l <= self.__size:\n",
        "      if self.__heapirry[idx] > self.__heapirry[l]:\n",
        "        self.__heapirry[l], self.__heapirry[idx] = self.__heapirry[idx], self.__heapirry[l]\n",
        "        self.sink(l)\n",
        "\n",
        "\n",
        "  def heapSort(self, arr):\n",
        "    for i in arr:\n",
        "      self.insert(i)\n",
        "    sorted_arr = np.zeros(self.__size, dtype = int)\n",
        "    count = 0\n",
        "    while self.__size != 0:\n",
        "      x = self.extractMin()\n",
        "      sorted_arr[count] = x\n",
        "      count += 1\n",
        "    return sorted_arr"
      ]
    },
    {
      "cell_type": "markdown",
      "metadata": {
        "id": "sKOdLAEGxRck"
      },
      "source": [
        "**Task 2**"
      ]
    },
    {
      "cell_type": "code",
      "execution_count": 70,
      "metadata": {
        "id": "xrzyYSKPxUOs"
      },
      "outputs": [],
      "source": [
        "class MaxHeap:\n",
        "  def __init__(self, capacity = 50):\n",
        "    self.__capacity = capacity+1\n",
        "    self.__heapirry = np.zeros(capacity+1, dtype = int)\n",
        "    self.__size = 0\n",
        "  def insert(self, i):\n",
        "    self.__heapirry[self.__size + 1] = i\n",
        "    self.__size += 1\n",
        "    self.swim(self.__size)\n",
        "\n",
        "  def swim(self, child_idx):\n",
        "    if child_idx <= 1:\n",
        "      return\n",
        "    parent_idx = child_idx // 2\n",
        "    if self.__heapirry[child_idx] > self.__heapirry[parent_idx]:\n",
        "      self.__heapirry[child_idx], self.__heapirry[parent_idx] = self.__heapirry[parent_idx], self.__heapirry[child_idx]\n",
        "      self.swim(parent_idx)\n",
        "\n",
        "  def extractMax(self):\n",
        "    if self.__size == 0:\n",
        "      return\n",
        "    x = self.__heapirry[1]\n",
        "    self.__heapirry[1], self.__heapirry[self.__size] = self.__heapirry[self.__size],0\n",
        "    self.__size -= 1\n",
        "    self.sink()\n",
        "    return x\n",
        "\n",
        "\n",
        "  def sink(self, idx = 1):\n",
        "    l, r = 2*idx, 2*idx + 1\n",
        "    if l <= self.__size and r <= self.__size:\n",
        "      if self.__heapirry[idx] < self.__heapirry[l] or self.__heapirry[idx] < self.__heapirry[r]:\n",
        "        if self.__heapirry[l] > self.__heapirry[r]:\n",
        "          self.__heapirry[l], self.__heapirry[idx] = self.__heapirry[idx], self.__heapirry[l]\n",
        "          self.sink(l)\n",
        "        else:\n",
        "          self.__heapirry[r], self.__heapirry[idx] = self.__heapirry[idx], self.__heapirry[r]\n",
        "\n",
        "    elif r > self.__size and l <= self.__size:\n",
        "      if self.__heapirry[idx] < self.__heapirry[l]:\n",
        "        self.__heapirry[l], self.__heapirry[idx] = self.__heapirry[idx], self.__heapirry[l]\n",
        "        self.sink(l)\n",
        "\n",
        "\n",
        "  def heapSort(self, arr):\n",
        "    for i in arr:\n",
        "      self.insert(i)\n",
        "    sorted_arr = np.zeros(self.__size, dtype = int)\n",
        "    count = 0\n",
        "    while self.__size != 0:\n",
        "      sorted_arr[count] = self.extractMax()\n",
        "      count += 1\n",
        "    return sorted_arr\n",
        "\n"
      ]
    },
    {
      "cell_type": "markdown",
      "metadata": {
        "id": "Ec_NtGt2oG36"
      },
      "source": [
        "**Task 3**"
      ]
    },
    {
      "cell_type": "code",
      "execution_count": 69,
      "metadata": {
        "colab": {
          "base_uri": "https://localhost:8080/"
        },
        "id": "7UGJ4PSLoNg_",
        "outputId": "01dcbc40-b820-4f4c-af41-3271d6863eaf"
      },
      "outputs": [
        {
          "name": "stdout",
          "output_type": "stream",
          "text": [
            "[2 4 7 7]\n"
          ]
        }
      ],
      "source": [
        "def machine(arr, m):\n",
        "  heap_arr = MinHeap(m)\n",
        "  for i in range(m):\n",
        "    heap_arr.insert(0)\n",
        "  list1 = np.zeros(m, dtype = int)\n",
        "  for i in arr:\n",
        "    val = i + heap_arr.extractMin()\n",
        "    heap_arr.insert(val)\n",
        "  for i in range(m):\n",
        "    list1[i] = heap_arr.extractMin()\n",
        "  return list1\n",
        "\n",
        "\n",
        "task1 = machine([2, 4, 7, 1, 6], 4)\n",
        "print(task1)"
      ]
    },
    {
      "cell_type": "markdown",
      "metadata": {
        "id": "kp9pXZgBt9XM"
      },
      "source": [
        "**Task 4**"
      ]
    },
    {
      "cell_type": "code",
      "execution_count": 68,
      "metadata": {
        "colab": {
          "base_uri": "https://localhost:8080/"
        },
        "id": "y-pSfRzcuAPH",
        "outputId": "88e89378-6192-4b30-e374-aa92b5b14af5"
      },
      "outputs": [
        {
          "name": "stdout",
          "output_type": "stream",
          "text": [
            "[10  8  7]\n"
          ]
        }
      ],
      "source": [
        "def maxUpto(arr, k):\n",
        "  heap_arr = MaxHeap(len(arr))\n",
        "  for i in arr:\n",
        "    heap_arr.insert(i)\n",
        "  arr2 = np.zeros(k, dtype = int)\n",
        "  for i in range(k):\n",
        "    if i < len(arr):\n",
        "      arr2[i] = heap_arr.extractMax()\n",
        "    else:\n",
        "      break\n",
        "  return arr2\n",
        "\n",
        "task1 = maxUpto([4, 10, 2, 8, 6, 7], 3)\n",
        "print(task1)"
      ]
    }
  ],
  "metadata": {
    "colab": {
      "provenance": []
    },
    "kernelspec": {
      "display_name": "Python 3",
      "name": "python3"
    },
    "language_info": {
      "codemirror_mode": {
        "name": "ipython",
        "version": 3
      },
      "file_extension": ".py",
      "mimetype": "text/x-python",
      "name": "python",
      "nbconvert_exporter": "python",
      "pygments_lexer": "ipython3",
      "version": "3.12.0"
    }
  },
  "nbformat": 4,
  "nbformat_minor": 0
}
